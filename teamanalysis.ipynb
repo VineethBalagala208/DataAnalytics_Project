{
 "cells": [
  {
   "cell_type": "markdown",
   "metadata": {},
   "source": [
    "## Context:\n",
    "Company X manages the men's top professional basketball division of the American league system. \n",
    "The dataset contains information on all the teams that have participated in all the past tournaments. It has data \n",
    "about how many baskets each team scored, conceded, how many times they came within the first 2 positions, \n",
    "how many tournaments they have qualified, their best position in the past, etc.\n",
    "\n"
   ]
  },
  {
   "cell_type": "code",
   "execution_count": 11,
   "metadata": {},
   "outputs": [],
   "source": [
    "# AS-Project\n",
    "\n",
    "import numpy as np\n",
    "import pandas as pd\n",
    "import seaborn as sns\n",
    "import matplotlib.pyplot as plt\n",
    "%matplotlib inline\n",
    "import warnings\n",
    "warnings.filterwarnings('ignore')\n",
    "# read data from csv file.\n",
    "\n",
    "dataset = pd.read_csv(\"Basketball.csv\")"
   ]
  },
  {
   "cell_type": "code",
   "execution_count": 27,
   "metadata": {},
   "outputs": [],
   "source": []
  },
  {
   "cell_type": "markdown",
   "metadata": {},
   "source": [
    "### Step1: Read the data set, clean the data and prepare a final dataset to be used for analysis"
   ]
  },
  {
   "cell_type": "code",
   "execution_count": 12,
   "metadata": {},
   "outputs": [
    {
     "data": {
      "text/html": [
       "<div>\n",
       "<style scoped>\n",
       "    .dataframe tbody tr th:only-of-type {\n",
       "        vertical-align: middle;\n",
       "    }\n",
       "\n",
       "    .dataframe tbody tr th {\n",
       "        vertical-align: top;\n",
       "    }\n",
       "\n",
       "    .dataframe thead th {\n",
       "        text-align: right;\n",
       "    }\n",
       "</style>\n",
       "<table border=\"1\" class=\"dataframe\">\n",
       "  <thead>\n",
       "    <tr style=\"text-align: right;\">\n",
       "      <th></th>\n",
       "      <th>Team</th>\n",
       "      <th>Tournament</th>\n",
       "      <th>Score</th>\n",
       "      <th>PlayedGames</th>\n",
       "      <th>WonGames</th>\n",
       "      <th>DrawnGames</th>\n",
       "      <th>LostGames</th>\n",
       "      <th>BasketScored</th>\n",
       "      <th>BasketGiven</th>\n",
       "      <th>TournamentChampion</th>\n",
       "      <th>Runner-up</th>\n",
       "      <th>TeamLaunch</th>\n",
       "      <th>HighestPositionHeld</th>\n",
       "    </tr>\n",
       "  </thead>\n",
       "  <tbody>\n",
       "    <tr>\n",
       "      <th>0</th>\n",
       "      <td>Team 1</td>\n",
       "      <td>86</td>\n",
       "      <td>4385</td>\n",
       "      <td>2762</td>\n",
       "      <td>1647</td>\n",
       "      <td>552</td>\n",
       "      <td>563</td>\n",
       "      <td>5947</td>\n",
       "      <td>3140</td>\n",
       "      <td>33</td>\n",
       "      <td>23</td>\n",
       "      <td>1929</td>\n",
       "      <td>1</td>\n",
       "    </tr>\n",
       "    <tr>\n",
       "      <th>1</th>\n",
       "      <td>Team 2</td>\n",
       "      <td>86</td>\n",
       "      <td>4262</td>\n",
       "      <td>2762</td>\n",
       "      <td>1581</td>\n",
       "      <td>573</td>\n",
       "      <td>608</td>\n",
       "      <td>5900</td>\n",
       "      <td>3114</td>\n",
       "      <td>25</td>\n",
       "      <td>25</td>\n",
       "      <td>1929</td>\n",
       "      <td>1</td>\n",
       "    </tr>\n",
       "    <tr>\n",
       "      <th>2</th>\n",
       "      <td>Team 3</td>\n",
       "      <td>80</td>\n",
       "      <td>3442</td>\n",
       "      <td>2614</td>\n",
       "      <td>1241</td>\n",
       "      <td>598</td>\n",
       "      <td>775</td>\n",
       "      <td>4534</td>\n",
       "      <td>3309</td>\n",
       "      <td>10</td>\n",
       "      <td>8</td>\n",
       "      <td>1929</td>\n",
       "      <td>1</td>\n",
       "    </tr>\n",
       "    <tr>\n",
       "      <th>3</th>\n",
       "      <td>Team 4</td>\n",
       "      <td>82</td>\n",
       "      <td>3386</td>\n",
       "      <td>2664</td>\n",
       "      <td>1187</td>\n",
       "      <td>616</td>\n",
       "      <td>861</td>\n",
       "      <td>4398</td>\n",
       "      <td>3469</td>\n",
       "      <td>6</td>\n",
       "      <td>6</td>\n",
       "      <td>1931</td>\n",
       "      <td>1</td>\n",
       "    </tr>\n",
       "    <tr>\n",
       "      <th>4</th>\n",
       "      <td>Team 5</td>\n",
       "      <td>86</td>\n",
       "      <td>3368</td>\n",
       "      <td>2762</td>\n",
       "      <td>1209</td>\n",
       "      <td>633</td>\n",
       "      <td>920</td>\n",
       "      <td>4631</td>\n",
       "      <td>3700</td>\n",
       "      <td>8</td>\n",
       "      <td>7</td>\n",
       "      <td>1929</td>\n",
       "      <td>1</td>\n",
       "    </tr>\n",
       "    <tr>\n",
       "      <th>5</th>\n",
       "      <td>Team 6</td>\n",
       "      <td>73</td>\n",
       "      <td>2819</td>\n",
       "      <td>2408</td>\n",
       "      <td>990</td>\n",
       "      <td>531</td>\n",
       "      <td>887</td>\n",
       "      <td>3680</td>\n",
       "      <td>3373</td>\n",
       "      <td>1</td>\n",
       "      <td>4</td>\n",
       "      <td>1934</td>\n",
       "      <td>1</td>\n",
       "    </tr>\n",
       "    <tr>\n",
       "      <th>6</th>\n",
       "      <td>Team 7</td>\n",
       "      <td>82</td>\n",
       "      <td>2792</td>\n",
       "      <td>2626</td>\n",
       "      <td>948</td>\n",
       "      <td>608</td>\n",
       "      <td>1070</td>\n",
       "      <td>3609</td>\n",
       "      <td>3889</td>\n",
       "      <td>0</td>\n",
       "      <td>0</td>\n",
       "      <td>1929</td>\n",
       "      <td>3</td>\n",
       "    </tr>\n",
       "    <tr>\n",
       "      <th>7</th>\n",
       "      <td>Team 8</td>\n",
       "      <td>70</td>\n",
       "      <td>2573</td>\n",
       "      <td>2302</td>\n",
       "      <td>864</td>\n",
       "      <td>577</td>\n",
       "      <td>861</td>\n",
       "      <td>3228</td>\n",
       "      <td>3230</td>\n",
       "      <td>2</td>\n",
       "      <td>3</td>\n",
       "      <td>1929</td>\n",
       "      <td>1</td>\n",
       "    </tr>\n",
       "    <tr>\n",
       "      <th>8</th>\n",
       "      <td>Team 9</td>\n",
       "      <td>58</td>\n",
       "      <td>2109</td>\n",
       "      <td>1986</td>\n",
       "      <td>698</td>\n",
       "      <td>522</td>\n",
       "      <td>766</td>\n",
       "      <td>2683</td>\n",
       "      <td>2847</td>\n",
       "      <td>0</td>\n",
       "      <td>1</td>\n",
       "      <td>1939</td>\n",
       "      <td>2</td>\n",
       "    </tr>\n",
       "    <tr>\n",
       "      <th>9</th>\n",
       "      <td>Team 10</td>\n",
       "      <td>51</td>\n",
       "      <td>1884</td>\n",
       "      <td>1728</td>\n",
       "      <td>606</td>\n",
       "      <td>440</td>\n",
       "      <td>682</td>\n",
       "      <td>2159</td>\n",
       "      <td>2492</td>\n",
       "      <td>1</td>\n",
       "      <td>0</td>\n",
       "      <td>1932</td>\n",
       "      <td>1</td>\n",
       "    </tr>\n",
       "  </tbody>\n",
       "</table>\n",
       "</div>"
      ],
      "text/plain": [
       "      Team  Tournament Score PlayedGames WonGames DrawnGames LostGames  \\\n",
       "0   Team 1          86  4385        2762     1647        552       563   \n",
       "1   Team 2          86  4262        2762     1581        573       608   \n",
       "2   Team 3          80  3442        2614     1241        598       775   \n",
       "3   Team 4          82  3386        2664     1187        616       861   \n",
       "4   Team 5          86  3368        2762     1209        633       920   \n",
       "5   Team 6          73  2819        2408      990        531       887   \n",
       "6   Team 7          82  2792        2626      948        608      1070   \n",
       "7   Team 8          70  2573        2302      864        577       861   \n",
       "8   Team 9          58  2109        1986      698        522       766   \n",
       "9  Team 10          51  1884        1728      606        440       682   \n",
       "\n",
       "  BasketScored BasketGiven TournamentChampion Runner-up TeamLaunch  \\\n",
       "0         5947        3140                 33        23       1929   \n",
       "1         5900        3114                 25        25       1929   \n",
       "2         4534        3309                 10         8       1929   \n",
       "3         4398        3469                  6         6       1931   \n",
       "4         4631        3700                  8         7       1929   \n",
       "5         3680        3373                  1         4       1934   \n",
       "6         3609        3889                  0         0       1929   \n",
       "7         3228        3230                  2         3       1929   \n",
       "8         2683        2847                  0         1       1939   \n",
       "9         2159        2492                  1         0       1932   \n",
       "\n",
       "   HighestPositionHeld  \n",
       "0                    1  \n",
       "1                    1  \n",
       "2                    1  \n",
       "3                    1  \n",
       "4                    1  \n",
       "5                    1  \n",
       "6                    3  \n",
       "7                    1  \n",
       "8                    2  \n",
       "9                    1  "
      ]
     },
     "execution_count": 12,
     "metadata": {},
     "output_type": "execute_result"
    }
   ],
   "source": [
    "# ==>issue1: Dates present in Team Launch date is in different formats as shown in below. \n",
    "# date formats : 1931to32,1941-42,1951_52\n",
    "\n",
    "#Solution : wen we are having date reange as mentioned in above formats in any row we will make start date as launch date to make data as uniform across for all the teams\n",
    "#using regex pattern: r'^(\\d{4})' to make starting date as launch date.\n",
    "\n",
    "dataset['TeamLaunch'] = dataset['TeamLaunch'].str.extract(r'^(\\d{4})', expand=False)\n",
    "\n",
    "# ==>issue2: lots of the data across the different rows has been filled with '-' as value to represent no value. which will be tough wen it will be used for plotting\n",
    "#Solution: we will be replacing '-' value with 0 across all the rows and columns\n",
    "# ==> Replacing value '-' present in dataset with 0 across the dataset\n",
    "dataset = dataset.replace('-',0)\n",
    "\n",
    "dataset.head(10)\n"
   ]
  },
  {
   "cell_type": "markdown",
   "metadata": {},
   "source": [
    "### Step2:Perform detailed statistical analysis and EDA using univariate, bi-variate and multivariate EDA techniques to get a data driven insights on recommending which teams they can approach which will be a deal win for them.. Also as a data and statistics expert you have to develop a detailed performance report using this data\n"
   ]
  },
  {
   "cell_type": "markdown",
   "metadata": {},
   "source": [
    "### Plot1: plotting for No.of championships won per each Team(will be including only teams that won the tournament atleast once)"
   ]
  },
  {
   "cell_type": "code",
   "execution_count": 14,
   "metadata": {},
   "outputs": [
    {
     "data": {
      "image/png": "[encoded data removed]",
      "text/plain": [
       "<Figure size 720x576 with 1 Axes>"
      ]
     },
     "metadata": {
      "needs_background": "light"
     },
     "output_type": "display_data"
    }
   ],
   "source": [
    "\n",
    "#Converting TournamentChampion column to numeric which will be used for plotting the graph\n",
    "dataset['TournamentChampion'] = pd.to_numeric(dataset['TournamentChampion'])\n",
    "dt = dataset[dataset['TournamentChampion'] > 0] # filtering above dataset for the teams which have won atleast one championship\n",
    "sns.barplot('Team','TournamentChampion', orient=\"v\",  data=dt, palette='Paired');\n",
    "plt.title('Total Chamionships won per Team')\n",
    "plt.ylabel('Number of Championships')\n",
    "plt.xlabel('Team')\n",
    "#plt.xticks(rotation = 90)\n",
    "plt.rcParams[\"figure.figsize\"] = (10, 8)\n",
    "plt.show();\n"
   ]
  },
  {
   "cell_type": "markdown",
   "metadata": {},
   "source": [
    "#### Plot1 - Observations:\n",
    "As seen in the above plot Team1 has won most championships in the tournament followed by Team2"
   ]
  },
  {
   "cell_type": "markdown",
   "metadata": {},
   "source": [
    "### Plot2: plotting No. of times a team reached finals(will be including teams reaching final atleast once)"
   ]
  },
  {
   "cell_type": "code",
   "execution_count": 17,
   "metadata": {},
   "outputs": [
    {
     "data": {
      "image/png": "[encoded data removed]",
      "text/plain": [
       "<Figure size 1584x576 with 1 Axes>"
      ]
     },
     "metadata": {
      "needs_background": "light"
     },
     "output_type": "display_data"
    }
   ],
   "source": [
    "\n",
    "# No. of times a team reached finals ==> [No.of Champiionships + No. of RunnerUps]\n",
    "\n",
    "dataset['Runner-up'] = pd.to_numeric(dataset['Runner-up'])\n",
    "dt = dataset[(dataset['TournamentChampion'] > 0) | (dataset['Runner-up'] > 0)] # filtering above dataset for the teams which have won atleast one championship\n",
    "dt['reached-finals'] = dt['TournamentChampion'] + dt ['Runner-up']\n",
    "sns.barplot('Team','reached-finals', orient=\"v\",  data=dt, palette='Paired');\n",
    "plt.title('Number of times a team reached the finals')\n",
    "plt.ylabel('Number of finals playeds')\n",
    "plt.xlabel('Team')\n",
    "plt.rcParams[\"figure.figsize\"] = (22, 8)\n",
    "plt.show();\n"
   ]
  },
  {
   "cell_type": "markdown",
   "metadata": {},
   "source": [
    "#### Plot2 - Observations:\n",
    "As seen in the below plot Team1 has reached more finals in the toutnament history followed by Team2"
   ]
  },
  {
   "cell_type": "code",
   "execution_count": 6,
   "metadata": {},
   "outputs": [
    {
     "data": {
      "image/png": "[encoded data removed]",
      "text/plain": [
       "<Figure size 1584x576 with 1 Axes>"
      ]
     },
     "metadata": {
      "needs_background": "light"
     },
     "output_type": "display_data"
    }
   ],
   "source": [
    "# will plot Top 10 Teams with most wins \n",
    "\n",
    "dataset['WonGames'] = pd.to_numeric(dataset['WonGames'])\n",
    "dataset.sort_values(by=['WonGames'], inplace=True, ascending=False)\n",
    "dt = dataset[(dataset['WonGames'] > 0)].head(10) # filtering above dataset for the teams which have won atleast one championship\n",
    "dt['WonGames'] =  dt ['WonGames']\n",
    "plt.title('Top 10 Teams with most wins')\n",
    "plt.ylabel('Team')\n",
    "plt.xlabel('No. of Wins')\n",
    "plt.rcParams[\"figure.figsize\"] = (10, 8)\n",
    "#plt.show();\n",
    "sns.barplot('Team','WonGames', orient=\"v\",  data=dt, palette='Paired');\n",
    "\n",
    "#Observations:\n",
    "#Team1 has most wins followed by Team2 "
   ]
  },
  {
   "cell_type": "code",
   "execution_count": 7,
   "metadata": {},
   "outputs": [
    {
     "data": {
      "image/png": "[encoded data removed]",
      "text/plain": [
       "<Figure size 720x576 with 1 Axes>"
      ]
     },
     "metadata": {
      "needs_background": "light"
     },
     "output_type": "display_data"
    }
   ],
   "source": [
    "# As new teams are being included through the history of tournament will be Plotting win% for each team.\n",
    "\n",
    "#Calculating win% = wonGames/totalGamesPlayed\n",
    "\n",
    "dataset['WonGames'] = pd.to_numeric(dataset['WonGames'])\n",
    "dataset['PlayedGames'] = pd.to_numeric(dataset['PlayedGames'])\n",
    "dt = dataset[(dataset['WonGames'] > 0)] # filtering above dataset for the teams which have won atleast one game\n",
    "dt['winPercentage'] = (dt['WonGames']/dt['PlayedGames'])*100\n",
    "dt.sort_values(by=['winPercentage'], inplace=True, ascending=False)\n",
    "dt = dt.head(10)\n",
    "plt.title('Top 10 Teams with best win percentage in the Tournament')\n",
    "plt.ylabel('Team')\n",
    "plt.xlabel('No. of Wins')\n",
    "plt.rcParams[\"figure.figsize\"] = (10, 8)\n",
    "#plt.show();\n",
    "sns.barplot('Team','winPercentage', orient=\"v\",  data=dt, palette='Paired');\n",
    "\n",
    "\n",
    "\n",
    "#Observation:\n",
    "#Team1 has most win percentage in history of the tournament followed by Team2\n",
    "#Team60 has worst win percentage in history of the tournament followed by Team55"
   ]
  },
  {
   "cell_type": "code",
   "execution_count": 8,
   "metadata": {},
   "outputs": [
    {
     "name": "stdout",
     "output_type": "stream",
     "text": [
      "1929\n"
     ]
    },
    {
     "data": {
      "image/png": "[encoded data removed]",
      "text/plain": [
       "<Figure size 720x576 with 1 Axes>"
      ]
     },
     "metadata": {
      "needs_background": "light"
     },
     "output_type": "display_data"
    }
   ],
   "source": [
    "# will be plotting Launch Date for oldest team.\n",
    "\n",
    "dataset['TeamLaunch'] = pd.to_numeric(dataset['TeamLaunch'])\n",
    "dataset.sort_values(by=['TeamLaunch'], inplace=True, ascending=False)\n",
    "min_Val = dataset['TeamLaunch'].min()\n",
    "dt =dataset[dataset['TeamLaunch'] == min_Val]\n",
    "plt.title('Oldest Teams')\n",
    "plt.ylabel('Team')\n",
    "plt.xlabel('Launch Date')\n",
    "plt.rcParams[\"figure.figsize\"] = (10, 8)\n",
    "plt.ylim(1910, 1935)\n",
    "#plt.show();\n",
    "sns.barplot('Team','TeamLaunch', orient=\"v\",  data=dt, palette='Paired');\n",
    "print(dataset['TeamLaunch'].min())\n",
    "\n",
    "#Observations\n",
    "# below Teams are the oldest teams"
   ]
  },
  {
   "cell_type": "markdown",
   "metadata": {},
   "source": [
    "### Observations:\n",
    "AS per above plotted graphs Team1 is the most suuccessfull Team in the tournament.P lease find the below details:\n",
    "Team1(Successfull Team):\n",
    "1.highest no of championships, \n",
    "2.More times reached finals\n",
    "3.More wins and also has most win%(relative to games played).\n",
    "4.One of oldest teams in the tournament.\n",
    "\n",
    "As per above analysis below teams are followed by team1:\n",
    "\n",
    "Team2: Team2 is second most successfull team with coming second on all criteria plotted in the above graph\n",
    "\n",
    "Team3,Team4 closely follows the above team as successfull teams.\n"
   ]
  },
  {
   "cell_type": "markdown",
   "metadata": {},
   "source": [
    "### Please include any improvements or suggestions to the association management on quality, quantity, variety, velocity, veracity etc. on the data points collected by the association to perform a better data analysis in future"
   ]
  },
  {
   "cell_type": "markdown",
   "metadata": {},
   "source": [
    "***Suggestions***: \n",
    "1.It it would be better if datapoints includes something like won/loss record of home and away games to measure performance\n",
    "2.\n"
   ]
  }
 ],
 "metadata": {
  "kernelspec": {
   "display_name": "Python 3",
   "language": "python",
   "name": "python3"
  },
  "language_info": {
   "codemirror_mode": {
    "name": "ipython",
    "version": 3
   },
   "file_extension": ".py",
   "mimetype": "text/x-python",
   "name": "python",
   "nbconvert_exporter": "python",
   "pygments_lexer": "ipython3",
   "version": "3.8.5"
  }
 },
 "nbformat": 4,
 "nbformat_minor": 4
}
